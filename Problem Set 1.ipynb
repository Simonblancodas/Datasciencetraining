{
    "cells": [
        {
            "cell_type": "markdown",
            "metadata": {
                "collapsed": true
            },
            "source": "<h1>Problem Set 1<h1>"
        },
        {
            "cell_type": "markdown",
            "metadata": {},
            "source": "    This problem set will introduce you to using control flow in Python and formulating a computational solution to a problem. It will also give you a chance to explore bisection search. This problem set has three problems."
        },
        {
            "cell_type": "markdown",
            "metadata": {},
            "source": "<h2>Part A: House Hunting<h2>"
        },
        {
            "cell_type": "markdown",
            "metadata": {},
            "source": "     You have graduated from MIT and now have a great job! You move to the San Francisco Bay Area and decide that you want to start saving to buy a house. As housing prices are very high in the Bay Area, you realize you are going to have to save for several years before you can afford to make the down payment on a house. In Part A, we are going to determine how long it will take you to save enough money to make the down payment given the assumptions\n\nAll the assumptions are translated into the variables defined below"
        },
        {
            "cell_type": "code",
            "execution_count": 71,
            "metadata": {},
            "outputs": [],
            "source": "#Cost of your dream home\ntotal_cost = 500000\ntotal_costf=float(total_cost)\n#portion of the cost needed for a down payment\nportion_down_payment=.25\nportion_down_paymentf=float(portion_down_payment)\n#Savings I start with\ncurrent_savings=0\ncurrent_savingsf = float(current_savings)\n#Annual return rate of invested savings\nr=.04\nrf=float(r)\n#Savings after adding/substracting investments\nsavings_from_investment = current_savingsf*r/12\n#Percentage of monthly salary saved\nportion_saved=0.15\nportion_savedf=float(portion_saved)\n#Annual Salary\nannual_salary=80000\nannual_salaryf=float(annual_salary)\n#Monthly salary\nmonth_salary=annual_salaryf/12"
        },
        {
            "cell_type": "markdown",
            "metadata": {},
            "source": "Write a program to calculate how many months it will take you to save up enough money for a down payment. You will want your main variables to be floats, so you should cast user inputs to floats. 1\nYour program should ask the user to enter the following variables:\n1. The starting annual salary (annual_salary)\n2. The portion of salary to be saved (portion_saved)\n3. The cost of your dream home (total_cost)"
        },
        {
            "cell_type": "markdown",
            "metadata": {},
            "source": "<h3>Hints<h2>"
        },
        {
            "cell_type": "markdown",
            "metadata": {},
            "source": "To help you get started, here is a rough outline of the stages you should probably follow in writing your\ncode:\n\n\u25cf Retrieve user input. Look at input() if you need help with getting user input. For this problem set,\nyou can assume that users will enter valid input (e.g. they won\u2019t enter a string when you expect\nan int)\n\n\u25cf Initialize some state variables. You should decide what information you need. Be careful about\nvalues that represent annual amounts and those that represent monthly amounts."
        },
        {
            "cell_type": "markdown",
            "metadata": {},
            "source": "Try different inputs and see how long it takes to save for a down payment. Please make your\nprogram print results in the format shown in the test cases below.\n\nTest Case 1\n\n1. Enter your annual salary: 120000\n2. Enter the percent of your salary to save, as a decimal: .10\n3. Enter the cost of your dream home: 1000000\n4. Number of months: 183\n\nTest Case 2\n\n1. Enter your annual salary: 80000\n2. Enter the percent of your salary to save, as a decimal: .15\n3. Enter the cost of your dream home: 500000\n4. Number of months: 105\n"
        },
        {
            "cell_type": "code",
            "execution_count": 72,
            "metadata": {},
            "outputs": [
                {
                    "name": "stdout",
                    "output_type": "stream",
                    "text": "Number of months to save:  105\nYears to save:  9\nCurrent savings are:  125472.55033742025\n"
                }
            ],
            "source": "#First condition to check is if we currently have the saved amount we need\nnumber_of_months=0\ndown_payment=total_costf*portion_down_payment\nwhile current_savingsf < down_payment:\n    month_savings=(current_savingsf*rf/12)+month_salary*portion_savedf\n    current_savings = current_savingsf+month_savings\n    number_of_months = number_of_months+1\n    current_savingsf = float(current_savings)\nprint('Number of months to save: ',number_of_months)\nprint('Years to save: ',round(number_of_months/12))\nprint('Current savings are: ', current_savingsf)\n#current savings is reset to 0 so we can run the program is reset at the end of every run\ncurrent_savingsf=0"
        }
    ],
    "metadata": {
        "kernelspec": {
            "display_name": "Python 3.6",
            "language": "python",
            "name": "python3"
        },
        "language_info": {
            "codemirror_mode": {
                "name": "ipython",
                "version": 3
            },
            "file_extension": ".py",
            "mimetype": "text/x-python",
            "name": "python",
            "nbconvert_exporter": "python",
            "pygments_lexer": "ipython3",
            "version": "3.6.9"
        }
    },
    "nbformat": 4,
    "nbformat_minor": 1
}